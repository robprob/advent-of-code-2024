{
 "cells": [
  {
   "cell_type": "markdown",
   "id": "748852b6-a198-4b7d-9a0d-b813a9f23363",
   "metadata": {},
   "source": [
    "# Day 3: Mull it Over"
   ]
  },
  {
   "cell_type": "markdown",
   "id": "01c772d5-96d7-46f0-bde5-ee836fe1f48b",
   "metadata": {},
   "source": [
    "## Part 1"
   ]
  },
  {
   "cell_type": "code",
   "execution_count": 3,
   "id": "ea787363-0465-403c-adeb-03e74bb5289e",
   "metadata": {},
   "outputs": [],
   "source": [
    "import pandas as pd\n",
    "import numpy as np\n",
    "import re\n",
    "from pathlib import Path"
   ]
  },
  {
   "cell_type": "code",
   "execution_count": 4,
   "id": "c89d92c2-7931-4309-a01d-b856b013033d",
   "metadata": {},
   "outputs": [],
   "source": [
    "regex = 'mul\\(\\d+,\\d+\\)'"
   ]
  },
  {
   "cell_type": "code",
   "execution_count": 5,
   "id": "710999f1-ad52-4b28-a890-e32591c92de0",
   "metadata": {},
   "outputs": [],
   "source": [
    "# Import text file and find regex matches\n",
    "try:\n",
    "    content = Path('Input Files/day3.txt').read_text()\n",
    "    match_list = re.findall(regex, content)\n",
    "except:\n",
    "    print('Error')"
   ]
  },
  {
   "cell_type": "code",
   "execution_count": 6,
   "id": "bc30ce83-1f90-4b5f-ad45-6561b4c89395",
   "metadata": {},
   "outputs": [],
   "source": [
    "# Create series with match list\n",
    "matches = pd.Series(match_list)"
   ]
  },
  {
   "cell_type": "code",
   "execution_count": 7,
   "id": "a39e1854-7f39-499c-ad2a-677d1e7ffe84",
   "metadata": {},
   "outputs": [],
   "source": [
    "# Remove unnecessary chars\n",
    "matches = matches.str.replace('mul(','').str.replace(')', '')"
   ]
  },
  {
   "cell_type": "code",
   "execution_count": 8,
   "id": "3bf25073-3e82-42fe-a268-4af3259f6ac0",
   "metadata": {},
   "outputs": [],
   "source": [
    "# Split into separate columns, cast as numeric\n",
    "matches = matches.str.split(',', expand=True).rename(columns={0: 'Mul1', 1: 'Mul2'})\n",
    "\n",
    "matches['Mul1'] = pd.to_numeric(matches['Mul1'])\n",
    "matches['Mul2'] = pd.to_numeric(matches['Mul2'])"
   ]
  },
  {
   "cell_type": "code",
   "execution_count": 9,
   "id": "f8914cec-73f7-4724-87d9-756dcddfdb71",
   "metadata": {},
   "outputs": [],
   "source": [
    "# Multiply values together, obtain sum\n",
    "part1_solution = (matches['Mul1'] * matches['Mul2']).sum()"
   ]
  },
  {
   "cell_type": "markdown",
   "id": "ce973b88-b1f8-4c93-8e9e-4f4e55f927c6",
   "metadata": {},
   "source": [
    "## Part 2"
   ]
  },
  {
   "cell_type": "code",
   "execution_count": 11,
   "id": "e50496af-eb28-43be-abaf-fd22e6ae0028",
   "metadata": {},
   "outputs": [],
   "source": [
    "# Extended regex to look for do and don't commands as well\n",
    "regex = \"mul\\(\\d+,\\d+\\)|don't\\(\\)|do\\(\\)\""
   ]
  },
  {
   "cell_type": "code",
   "execution_count": 12,
   "id": "c7f2b36f-50ee-4d35-8b09-d8a08e0e8e7e",
   "metadata": {},
   "outputs": [],
   "source": [
    "# Import text file and find regex matches\n",
    "try:\n",
    "    content = Path('Input Files/day3.txt').read_text()\n",
    "    match_list = re.findall(regex, content)\n",
    "except:\n",
    "    print('Error')"
   ]
  },
  {
   "cell_type": "code",
   "execution_count": 13,
   "id": "562aa70c-8155-4950-b84d-5c0aa6f5744e",
   "metadata": {},
   "outputs": [],
   "source": [
    "# Iterate through list to create a new list of correct matches only\n",
    "enabled = True\n",
    "good_matches = []\n",
    "\n",
    "for match in match_list:\n",
    "    if match == 'do()':\n",
    "        enabled = True\n",
    "    elif match == \"don't()\":\n",
    "        enabled = False\n",
    "    elif enabled:\n",
    "        good_matches.append(match)"
   ]
  },
  {
   "cell_type": "code",
   "execution_count": 14,
   "id": "a47051bd-2e15-4b19-b7cd-90f0ed8dd6c0",
   "metadata": {},
   "outputs": [],
   "source": [
    "# Process good matches as before\n",
    "\n",
    "# Create series with match list\n",
    "matches = pd.Series(good_matches)\n",
    "\n",
    "# Remove unnecessary chars\n",
    "matches = matches.str.replace('mul(','').str.replace(')', '')\n",
    "\n",
    "# Split into separate columns, cast as numeric\n",
    "matches = matches.str.split(',', expand=True).rename(columns={0: 'Mul1', 1: 'Mul2'})\n",
    "\n",
    "matches['Mul1'] = pd.to_numeric(matches['Mul1'])\n",
    "matches['Mul2'] = pd.to_numeric(matches['Mul2'])"
   ]
  },
  {
   "cell_type": "code",
   "execution_count": 15,
   "id": "adc24ff1-7079-4ad2-b26e-7aa07211f8d7",
   "metadata": {},
   "outputs": [],
   "source": [
    "# Multiply values together, obtain sum\n",
    "part2_solution = (matches['Mul1'] * matches['Mul2']).sum()"
   ]
  }
 ],
 "metadata": {
  "kernelspec": {
   "display_name": "Python 3 (ipykernel)",
   "language": "python",
   "name": "python3"
  },
  "language_info": {
   "codemirror_mode": {
    "name": "ipython",
    "version": 3
   },
   "file_extension": ".py",
   "mimetype": "text/x-python",
   "name": "python",
   "nbconvert_exporter": "python",
   "pygments_lexer": "ipython3",
   "version": "3.11.7"
  }
 },
 "nbformat": 4,
 "nbformat_minor": 5
}
