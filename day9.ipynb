{
 "cells": [
  {
   "cell_type": "markdown",
   "id": "00e12ac1-d861-4981-b5ba-47989a06fa8e",
   "metadata": {},
   "source": [
    "# Day 9: Disk Fragmenter"
   ]
  },
  {
   "cell_type": "markdown",
   "id": "b8b493a2-f420-48cb-8cf9-b3d9dab7394a",
   "metadata": {},
   "source": [
    "## Part 1"
   ]
  },
  {
   "cell_type": "code",
   "execution_count": 3,
   "id": "22087fa2-b89c-4b0e-9999-8211a9a22c46",
   "metadata": {},
   "outputs": [],
   "source": [
    "import pandas as pd\n",
    "import numpy as np"
   ]
  },
  {
   "cell_type": "code",
   "execution_count": 4,
   "id": "e7c51fde-ee6a-4a7d-a4bf-689bc8eba38a",
   "metadata": {},
   "outputs": [],
   "source": [
    "disk = []\n",
    "\n",
    "with open('Input Files/day9.txt', 'r') as f:\n",
    "    input_data = f.read()\n",
    "\n",
    "disk.extend(map(int, input_data))\n",
    "disk = np.array(disk)"
   ]
  },
  {
   "cell_type": "code",
   "execution_count": 5,
   "id": "d9833475-39aa-459a-bd29-6959a9a2d765",
   "metadata": {},
   "outputs": [
    {
     "data": {
      "text/plain": [
       "0"
      ]
     },
     "execution_count": 5,
     "metadata": {},
     "output_type": "execute_result"
    }
   ],
   "source": [
    "# Validate basic formatting of disk map\n",
    "(len(disk) - 1) % 3"
   ]
  },
  {
   "cell_type": "code",
   "execution_count": 6,
   "id": "04d34801-a4b4-4a2c-bfee-1a5a0ece2de7",
   "metadata": {},
   "outputs": [],
   "source": [
    "memory_string = ''\n",
    "mem_id = 0\n",
    "\n",
    "# Iterate through disk map, constructing a string representation of memory\n",
    "for i in range(0, len(disk), 2):\n",
    "    memory_string += (str(mem_id) + ',') * disk[i]\n",
    "    i += 1\n",
    "    # Check if outside of index\n",
    "    if i >= len(disk):\n",
    "        break\n",
    "    memory_string += '.,' * disk[i]\n",
    "    mem_id += 1"
   ]
  },
  {
   "cell_type": "code",
   "execution_count": 7,
   "id": "7f78001d-4007-4dd4-8f04-dcc260642348",
   "metadata": {},
   "outputs": [],
   "source": [
    "memory = np.array(memory_string.split(','))\n",
    "\n",
    "# Remove blank at end\n",
    "memory = np.delete(memory, -1)"
   ]
  },
  {
   "cell_type": "code",
   "execution_count": 8,
   "id": "fe37cfef-a643-4332-9b73-0686eaadf820",
   "metadata": {},
   "outputs": [],
   "source": [
    "# Iterate through memory, realocating units to be contiguous\n",
    "j = len(memory)-1\n",
    "\n",
    "for i in range(len(memory)):\n",
    "    if memory[i] == '.':\n",
    "        # Locate a proper value to replace with\n",
    "        while j > i and memory[j] == '.':\n",
    "            j -= 1\n",
    "         # Check if cursors have overlapped, completing the process\n",
    "        if i >= j:\n",
    "            #print(f'Finished at index {i}!')\n",
    "            break\n",
    "        # Swap the values\n",
    "        memory[i], memory[j] = memory[j], memory[i]"
   ]
  },
  {
   "cell_type": "code",
   "execution_count": 9,
   "id": "461b8c07-c7e6-479e-b4fa-2923d024c0d4",
   "metadata": {},
   "outputs": [],
   "source": [
    "# Calculate checksum\n",
    "i = 0\n",
    "checksum = 0\n",
    "\n",
    "for value in memory[:49678]:\n",
    "    if value != '.':\n",
    "        checksum += (i * int(value))\n",
    "    i += 1"
   ]
  },
  {
   "cell_type": "code",
   "execution_count": 10,
   "id": "97a56cad-cdaf-46de-930d-21fb40736efd",
   "metadata": {},
   "outputs": [],
   "source": [
    "part1_solution = checksum"
   ]
  },
  {
   "cell_type": "markdown",
   "id": "7f71762a-e355-494a-a8dc-2a125febea52",
   "metadata": {},
   "source": [
    "## Part 2"
   ]
  },
  {
   "cell_type": "code",
   "execution_count": 12,
   "id": "08a2d5d7-273c-4e4d-8e99-c5d83284a851",
   "metadata": {},
   "outputs": [],
   "source": [
    "# Recreate original memory representation\n",
    "memory = np.array(memory_string.split(','))\n",
    "\n",
    "# Remove blank at end\n",
    "memory = np.delete(memory, -1)"
   ]
  },
  {
   "cell_type": "code",
   "execution_count": 13,
   "id": "3ba48ec6-bd96-4eb3-a59e-14cac80a1b89",
   "metadata": {},
   "outputs": [],
   "source": [
    "# Defragment compactly, keeping files together\n",
    "# Iterate through memory, realocating units to be contiguous\n",
    "i = 0\n",
    "j = len(memory)-1\n",
    "checked = []\n",
    "\n",
    "while j >= 0:\n",
    "    \n",
    "    # Skip empty or occupied memory spaces\n",
    "    if memory[j] == '.' or memory[j] in checked:\n",
    "        j -= 1\n",
    "        continue\n",
    "    \n",
    "    file_id = memory[j]\n",
    "    checked.append(file_id)\n",
    "\n",
    "    # Calculate file and its size\n",
    "    file_end = j\n",
    "    file_size = 0\n",
    "    while j >= 0 and memory[j] == file_id:\n",
    "        file_size += 1\n",
    "        j -= 1\n",
    "    file_start = j + 1\n",
    "    file_array = memory[file_start:file_end + 1]\n",
    "    #print(f'File to move: {file_array}')\n",
    "    \n",
    "    # Attempt to locate empty spot large enough to move file to\n",
    "    empty_start = -1\n",
    "    empty_size = 0\n",
    "    while i <= j:\n",
    "\n",
    "        # Skip occupied memory spaces\n",
    "        if memory[i] != '.':\n",
    "            i += 1\n",
    "            continue\n",
    "\n",
    "        # Determine size of blank space\n",
    "        empty_start_candidate = i\n",
    "        empty_size = 0\n",
    "        while i <= j and memory[i] == '.':\n",
    "            empty_size += 1\n",
    "            i += 1\n",
    "        if empty_size >= file_size:\n",
    "            empty_start = empty_start_candidate\n",
    "            break\n",
    "\n",
    "    # If of sufficient size, store number\n",
    "    if empty_start == -1:\n",
    "        #print(f'No space found for {file_id}')\n",
    "        i = 0\n",
    "        continue\n",
    "        \n",
    "    #print(f'Found empty space of size {empty_size} starting at {empty_start}')\n",
    "    memory[empty_start:empty_start + file_size] = file_array\n",
    "    memory[empty_start + file_size:empty_start + empty_size] = ['.']*(empty_size - file_size)\n",
    "    memory[file_start:file_end + 1] = ['.']*file_size\n",
    "    i = 0"
   ]
  },
  {
   "cell_type": "code",
   "execution_count": 14,
   "id": "a37751bc-ab04-4beb-8f8d-67f58258f1df",
   "metadata": {},
   "outputs": [],
   "source": [
    "# Calculate new checksum\n",
    "i = 0\n",
    "checksum = 0\n",
    "\n",
    "for value in memory:\n",
    "    if value != '.':\n",
    "        checksum += (i * int(value))\n",
    "    i += 1"
   ]
  },
  {
   "cell_type": "code",
   "execution_count": 15,
   "id": "b1a5d25b-35cf-4887-9ff5-6ef89cf0b1eb",
   "metadata": {},
   "outputs": [],
   "source": [
    "part2_solution = checksum"
   ]
  }
 ],
 "metadata": {
  "kernelspec": {
   "display_name": "Python 3 (ipykernel)",
   "language": "python",
   "name": "python3"
  },
  "language_info": {
   "codemirror_mode": {
    "name": "ipython",
    "version": 3
   },
   "file_extension": ".py",
   "mimetype": "text/x-python",
   "name": "python",
   "nbconvert_exporter": "python",
   "pygments_lexer": "ipython3",
   "version": "3.11.7"
  }
 },
 "nbformat": 4,
 "nbformat_minor": 5
}
