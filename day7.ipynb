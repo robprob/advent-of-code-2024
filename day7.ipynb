{
 "cells": [
  {
   "cell_type": "markdown",
   "id": "b122684f-b0d7-4114-9717-a449bbd87d69",
   "metadata": {},
   "source": [
    "# Day 7: Bridge Repair"
   ]
  },
  {
   "cell_type": "markdown",
   "id": "3328ba18-8761-4aa4-9cdd-90e72cbbe0bc",
   "metadata": {},
   "source": [
    "## Part 1"
   ]
  },
  {
   "cell_type": "code",
   "execution_count": 3,
   "id": "9c14e502-968e-4d85-9c43-8f7acfae6f21",
   "metadata": {},
   "outputs": [],
   "source": [
    "import pandas as pd\n",
    "import numpy as np"
   ]
  },
  {
   "cell_type": "code",
   "execution_count": 4,
   "id": "1f5c19ff-a571-4399-8a73-7488e9bd9b8f",
   "metadata": {},
   "outputs": [],
   "source": [
    "with open('Input Files/day7.txt', 'r') as f:\n",
    "    data = f.readlines()\n",
    "\n",
    "calibration_data = [list(map(int, line.strip().replace(':', '').split())) for line in data]"
   ]
  },
  {
   "cell_type": "code",
   "execution_count": 5,
   "id": "2e2e45d9-bbc5-4dc0-9bbd-f97568c9f192",
   "metadata": {},
   "outputs": [],
   "source": [
    "# Define operations for clarity\n",
    "def mult(num1, num2):\n",
    "    return num1 * num2\n",
    "\n",
    "def add(num1, num2):\n",
    "    return num1 + num2"
   ]
  },
  {
   "cell_type": "code",
   "execution_count": 6,
   "id": "e4f34c44-0aa7-4050-9800-3259361bffa2",
   "metadata": {},
   "outputs": [],
   "source": [
    "# Perform recursive operations for each pair of numbers\n",
    "def recursive_op(line, current_index, current_value, operation_sequence):\n",
    "    # Access global match_found variable to determine if recursion is no longer needed\n",
    "    global match_found\n",
    "    if match_found == True:\n",
    "        return\n",
    "\n",
    "    # Define operands\n",
    "    num1 = current_value\n",
    "    num2 = line[current_index + 1]\n",
    "    \n",
    "    mult_output = mult(num1, num2)\n",
    "    add_output = add(num1, num2)\n",
    "\n",
    "    # Print statements for bug testing\n",
    "    \"\"\"\n",
    "    # Print progress\n",
    "    print(f\"Current Index: {current_index}\")\n",
    "    print(f\"Num1: {num1}\")\n",
    "    print(f\"Num2: {num2}\")\n",
    "    print(f\"Multiplication Output: {mult_output}\")\n",
    "    print(f\"Addition Output: {add_output}\")\n",
    "    print(f\"Current Operations Sequence: {operation_sequence}\\n\")\n",
    "    \"\"\"\n",
    "\n",
    "    # Check if this was final calculation to return truth value\n",
    "    if current_index == len(line) - 2:\n",
    "        # Compare to desired output\n",
    "        if mult_output == line[0] or add_output == line[0]:\n",
    "            match_found = True\n",
    "            return\n",
    "        else:\n",
    "            match_found = False\n",
    "            return\n",
    "\n",
    "    current_index += 1\n",
    "\n",
    "    # Continue recursively using each different output value\n",
    "    mult_sequence = operation_sequence.copy()\n",
    "    mult_sequence.append('*')\n",
    "    recursive_op(line, current_index, mult_output, mult_sequence)\n",
    "\n",
    "    \n",
    "    add_sequence = operation_sequence.copy()\n",
    "    add_sequence.append('+')\n",
    "    recursive_op(line, current_index, add_output, add_sequence)"
   ]
  },
  {
   "cell_type": "code",
   "execution_count": 7,
   "id": "350ec25f-bed2-4ef3-9fab-2c24437065a8",
   "metadata": {},
   "outputs": [],
   "source": [
    "# Recursively iterate over line data\n",
    "def find_match(line):\n",
    "    start_index = 1\n",
    "    start_value = line[1]\n",
    "    operation_sequence = []\n",
    "    \n",
    "    recursive_op(line, start_index, start_value, operation_sequence)\n",
    "    if match_found:\n",
    "        return True"
   ]
  },
  {
   "cell_type": "code",
   "execution_count": 8,
   "id": "ebb2345d-3edc-4457-93ec-71a14eb21dbf",
   "metadata": {},
   "outputs": [],
   "source": [
    "# Instantiate sum of correct output values\n",
    "test_value_sum = 0\n",
    "\n",
    "# Perform recursive function on each line of data\n",
    "for line in calibration_data:\n",
    "    match_found = False\n",
    "    find_match(line)\n",
    "    if match_found:\n",
    "        test_value_sum += line[0]"
   ]
  },
  {
   "cell_type": "code",
   "execution_count": 9,
   "id": "5487fc42-d893-412b-8325-689e9dd6755a",
   "metadata": {},
   "outputs": [],
   "source": [
    "part1_solution = test_value_sum"
   ]
  },
  {
   "cell_type": "markdown",
   "id": "4e6c1576-5235-4276-afc3-a5ebd7b1bc11",
   "metadata": {},
   "source": [
    "## Part 2"
   ]
  },
  {
   "cell_type": "code",
   "execution_count": 11,
   "id": "c5faf844-9e34-49c5-825a-52e121a15394",
   "metadata": {},
   "outputs": [],
   "source": [
    "# Add concat operator functionality\n",
    "def concat(num1, num2):\n",
    "    return int(str(num1) + str(num2))"
   ]
  },
  {
   "cell_type": "code",
   "execution_count": 12,
   "id": "60d94dba-d5f3-4502-a3c2-8ddd02cd0660",
   "metadata": {},
   "outputs": [],
   "source": [
    "# Perform recursive operations for each pair of numbers\n",
    "def recursive_op(line, current_index, current_value, operation_sequence):\n",
    "    # Access global match_found variable to determine if recursion is no longer needed\n",
    "    global match_found\n",
    "    if match_found == True:\n",
    "        return\n",
    "\n",
    "    # Define operands\n",
    "    num1 = current_value\n",
    "    num2 = line[current_index + 1]\n",
    "    \n",
    "    mult_output = mult(num1, num2)\n",
    "    add_output = add(num1, num2)\n",
    "    concat_output = concat(num1, num2)\n",
    "\n",
    "    # Check if this was final calculation to return truth value\n",
    "    if current_index == len(line) - 2:\n",
    "        # Compare to desired output\n",
    "        if mult_output == line[0] or add_output == line[0] or concat_output == line[0]:\n",
    "            match_found = True\n",
    "            return\n",
    "        else:\n",
    "            match_found = False\n",
    "            return\n",
    "\n",
    "    current_index += 1\n",
    "\n",
    "    # Continue recursively using each different output value\n",
    "    mult_sequence = operation_sequence.copy()\n",
    "    mult_sequence.append('*')\n",
    "    recursive_op(line, current_index, mult_output, mult_sequence)\n",
    "\n",
    "    \n",
    "    add_sequence = operation_sequence.copy()\n",
    "    add_sequence.append('+')\n",
    "    recursive_op(line, current_index, add_output, add_sequence)\n",
    "\n",
    "    concat_sequence = operation_sequence.copy()\n",
    "    concat_sequence.append('||')\n",
    "    recursive_op(line, current_index, concat_output, concat_sequence)"
   ]
  },
  {
   "cell_type": "code",
   "execution_count": 13,
   "id": "550365fd-e1ac-48ad-9022-4279d6f75cb9",
   "metadata": {},
   "outputs": [],
   "source": [
    "# Instantiate sum of correct output values\n",
    "new_test_value_sum = 0\n",
    "\n",
    "# Perform recursive function on each line of data\n",
    "for line in calibration_data:\n",
    "    match_found = False\n",
    "    find_match(line)\n",
    "    if match_found:\n",
    "        new_test_value_sum += line[0]"
   ]
  },
  {
   "cell_type": "code",
   "execution_count": 14,
   "id": "a8371550-071f-4a8d-93b5-af117bab13a2",
   "metadata": {},
   "outputs": [],
   "source": [
    "part2_solution = new_test_value_sum"
   ]
  }
 ],
 "metadata": {
  "kernelspec": {
   "display_name": "Python 3 (ipykernel)",
   "language": "python",
   "name": "python3"
  },
  "language_info": {
   "codemirror_mode": {
    "name": "ipython",
    "version": 3
   },
   "file_extension": ".py",
   "mimetype": "text/x-python",
   "name": "python",
   "nbconvert_exporter": "python",
   "pygments_lexer": "ipython3",
   "version": "3.11.7"
  }
 },
 "nbformat": 4,
 "nbformat_minor": 5
}
