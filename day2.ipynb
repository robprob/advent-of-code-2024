{
 "cells": [
  {
   "cell_type": "markdown",
   "id": "8ab4bca9-d652-497e-8e60-6fee6f1d45e5",
   "metadata": {},
   "source": [
    "# Day 2: Red-Nosed Reports"
   ]
  },
  {
   "cell_type": "markdown",
   "id": "f4fef796-134f-410e-839c-ca74401b5c3e",
   "metadata": {},
   "source": [
    "## Part 1"
   ]
  },
  {
   "cell_type": "code",
   "execution_count": 93,
   "id": "99618615-d888-44c9-a335-ee343052c779",
   "metadata": {},
   "outputs": [],
   "source": [
    "import pandas as pd\n",
    "import numpy as np"
   ]
  },
  {
   "cell_type": "code",
   "execution_count": 94,
   "id": "c3e96a8a-df65-41c5-b5e2-8fc6b1319dde",
   "metadata": {},
   "outputs": [],
   "source": [
    "# Load data\n",
    "with open('Input Files/day2.txt', 'r') as f:\n",
    "    data = f.readlines()\n",
    "\n",
    "reactor = [list(map(int, line.strip().split())) for line in data]"
   ]
  },
  {
   "cell_type": "code",
   "execution_count": 95,
   "id": "8212c9b1-6c55-4f0b-8ccf-908485382a44",
   "metadata": {},
   "outputs": [],
   "source": [
    "# Determine if reactor differences are safe\n",
    "def is_safe(data):\n",
    "    diff1 = data[1] - data[0]\n",
    "    if diff1 == 0 or abs(diff1) > 3:\n",
    "        return False\n",
    "    increasing = diff1 > 0\n",
    "    for i in range(1, len(data)-1):\n",
    "        diff = data[i + 1] - data[i]\n",
    "        if diff == 0 or abs(diff) > 3:\n",
    "            return False\n",
    "        elif increasing and diff < 0:\n",
    "            return False\n",
    "        elif not increasing and diff > 0:\n",
    "            return False\n",
    "    return True"
   ]
  },
  {
   "cell_type": "code",
   "execution_count": 96,
   "id": "7221092a-487a-4b9d-a1d2-7acf4c34bceb",
   "metadata": {},
   "outputs": [],
   "source": [
    "num_safe = 0\n",
    "\n",
    "for data in reactor:\n",
    "    if is_safe(data):\n",
    "        num_safe += 1"
   ]
  },
  {
   "cell_type": "code",
   "execution_count": 97,
   "id": "099fca00-3cca-4d7a-b828-a4ee558ef474",
   "metadata": {},
   "outputs": [],
   "source": [
    "part1_solution = num_safe"
   ]
  },
  {
   "cell_type": "markdown",
   "id": "c1a7362f-67f9-4a97-86f6-5e6bf8748419",
   "metadata": {},
   "source": [
    "## Part 2"
   ]
  },
  {
   "cell_type": "code",
   "execution_count": 99,
   "id": "dbd7c036-ba71-4cf5-a5a8-a3220dc8fbdf",
   "metadata": {},
   "outputs": [],
   "source": [
    "# Add unsafe arrays to new list\n",
    "unsafe_data = []\n",
    "\n",
    "for data in reactor:\n",
    "    if is_safe(data):\n",
    "        continue\n",
    "    else:\n",
    "        unsafe_data.append(data)"
   ]
  },
  {
   "cell_type": "code",
   "execution_count": 110,
   "id": "cb6eb621-739f-474e-a4b7-da52f90dd766",
   "metadata": {},
   "outputs": [
    {
     "data": {
      "text/plain": [
       "528"
      ]
     },
     "execution_count": 110,
     "metadata": {},
     "output_type": "execute_result"
    }
   ],
   "source": [
    "# Test unsafe data to see if removing one value can make them safe\n",
    "made_safe = 0\n",
    "\n",
    "for data in unsafe_data:\n",
    "    for i in range(len(array)):\n",
    "        test_array = np.delete(array, i)\n",
    "        if is_safe(test_array):\n",
    "            made_safe += 1\n",
    "            break\n",
    "\n",
    "made_safe"
   ]
  }
 ],
 "metadata": {
  "kernelspec": {
   "display_name": "Python 3 (ipykernel)",
   "language": "python",
   "name": "python3"
  },
  "language_info": {
   "codemirror_mode": {
    "name": "ipython",
    "version": 3
   },
   "file_extension": ".py",
   "mimetype": "text/x-python",
   "name": "python",
   "nbconvert_exporter": "python",
   "pygments_lexer": "ipython3",
   "version": "3.11.7"
  }
 },
 "nbformat": 4,
 "nbformat_minor": 5
}
