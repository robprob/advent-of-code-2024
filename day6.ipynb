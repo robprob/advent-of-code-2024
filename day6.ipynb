{
 "cells": [
  {
   "cell_type": "markdown",
   "id": "70e1ba67-cbdd-43c3-853d-f06d37a417eb",
   "metadata": {},
   "source": [
    "# Day 6: Guard Gallivant"
   ]
  },
  {
   "cell_type": "markdown",
   "id": "036e164f-c694-4944-ba61-07d32811361b",
   "metadata": {},
   "source": [
    "## Day 1"
   ]
  },
  {
   "cell_type": "code",
   "execution_count": 4,
   "id": "529b6d45-bb6a-4dc6-be2d-60abe7be7f75",
   "metadata": {},
   "outputs": [],
   "source": [
    "import pandas as pd\n",
    "import numpy as np"
   ]
  },
  {
   "cell_type": "code",
   "execution_count": 5,
   "id": "af686e0d-fc64-4f69-9f41-0d17e2bd2afc",
   "metadata": {},
   "outputs": [],
   "source": [
    "# Read lines from input\n",
    "with open('Input Files/day6.txt', 'r') as f:\n",
    "    lines = f.readlines()\n",
    "\n",
    "# Convert to matrix with list comprehension (strip line breaks)\n",
    "matrix = np.array([list(line.strip()) for line in lines])"
   ]
  },
  {
   "cell_type": "code",
   "execution_count": 6,
   "id": "3ffb14ac-1252-429e-a3ed-55c740a16e48",
   "metadata": {},
   "outputs": [],
   "source": [
    "# Locate starting point, '^'\n",
    "starting_pos = np.where(matrix == '^')"
   ]
  },
  {
   "cell_type": "code",
   "execution_count": 7,
   "id": "30a4e7f5-4e54-47d9-b802-cb776787e962",
   "metadata": {},
   "outputs": [],
   "source": [
    "# Return coordinates of start position\n",
    "starting_row = starting_pos[0][0]\n",
    "starting_col = starting_pos[1][0]"
   ]
  },
  {
   "cell_type": "code",
   "execution_count": 8,
   "id": "4c61ff27-b3df-4f2d-be92-1dcf0a659452",
   "metadata": {},
   "outputs": [],
   "source": [
    "# Check if destination is of bounds\n",
    "def out_of_bounds(target_row, target_col, matrix):\n",
    "    if (target_row < 0) or (target_row >= matrix.shape[0]) or (target_col < 0) or (target_col >= matrix.shape[1]):\n",
    "        return True\n",
    "    else:\n",
    "        return False"
   ]
  },
  {
   "cell_type": "code",
   "execution_count": 9,
   "id": "780e3097-8d2f-4c96-a47b-0c82f04db8d1",
   "metadata": {},
   "outputs": [],
   "source": [
    "# Determine destination\n",
    "def destination(direction, current_row, current_col):\n",
    "    destination_row = current_row\n",
    "    destination_col = current_col\n",
    "    if (direction == 'up'):\n",
    "        destination_row = current_row - 1\n",
    "        destination_col = current_col\n",
    "    elif (direction == 'down'):\n",
    "        destination_row = current_row + 1\n",
    "        destination_col = current_col\n",
    "    elif (direction == 'left'):\n",
    "        destination_row = current_row\n",
    "        destination_col = current_col - 1\n",
    "    elif (direction == 'right'):\n",
    "        destination_row = current_row\n",
    "        destination_col = current_col + 1\n",
    "    else:\n",
    "        print('Invalid directional input!')\n",
    "    return destination_row, destination_col"
   ]
  },
  {
   "cell_type": "code",
   "execution_count": 10,
   "id": "4e0d9972-d9c3-41bc-81f4-fa9877bc7239",
   "metadata": {},
   "outputs": [],
   "source": [
    "# Update direction to turn 90 degrees to the right\n",
    "def new_direction(direction):\n",
    "    if direction == 'up':\n",
    "        direction = 'right'\n",
    "    elif direction == 'right':\n",
    "        direction = 'down'\n",
    "    elif direction == 'down':\n",
    "        direction = 'left'\n",
    "    elif direction == 'left':\n",
    "        direction = 'up'\n",
    "    else:\n",
    "        print('Invalid direction detected!')\n",
    "    return direction"
   ]
  },
  {
   "cell_type": "code",
   "execution_count": 11,
   "id": "ee11a0ff-612f-4996-88e0-0a162d60a60e",
   "metadata": {},
   "outputs": [],
   "source": [
    "# Move up until hitting an object ('#') or leaving the matrix\n",
    "def move(direction, current_row, current_col):\n",
    "    # Continually move, while able\n",
    "    while (True) :\n",
    "        # Place 'X' at current position\n",
    "        matrix[current_row, current_col] = 'X'\n",
    "        # Determine destination\n",
    "        destination_row, destination_col = destination(direction, current_row, current_col)\n",
    "        # Determine if move is valid\n",
    "        if (out_of_bounds(destination_row, destination_col, matrix)):\n",
    "            break\n",
    "        elif (matrix[destination_row][destination_col] == '#'):\n",
    "            # Continue with new direction\n",
    "            direction = new_direction(direction)\n",
    "        # Move to destination\n",
    "        else:\n",
    "            current_row = destination_row\n",
    "            current_col = destination_col"
   ]
  },
  {
   "cell_type": "code",
   "execution_count": 12,
   "id": "ee78983f-17f6-488f-b45e-bf1564ef696d",
   "metadata": {},
   "outputs": [],
   "source": [
    "# Move through the matrix\n",
    "move('up', starting_row, starting_col)"
   ]
  },
  {
   "cell_type": "code",
   "execution_count": 13,
   "id": "f211ac41-c443-4ac6-a3f4-e62e16ed81f6",
   "metadata": {},
   "outputs": [],
   "source": [
    "# Count instances of 'X' left behind\n",
    "x_count = 0\n",
    "\n",
    "for row in matrix:\n",
    "    for value in row:\n",
    "        if value == 'X':\n",
    "            x_count += 1"
   ]
  },
  {
   "cell_type": "code",
   "execution_count": 14,
   "id": "bc678a44-4d61-4bb0-b511-cf1dbc36b340",
   "metadata": {},
   "outputs": [],
   "source": [
    "part1_solution = x_count"
   ]
  },
  {
   "cell_type": "markdown",
   "id": "e1afbcd7-e76c-4d22-b4d1-fb35ca358745",
   "metadata": {},
   "source": [
    "# Part 2"
   ]
  },
  {
   "cell_type": "code",
   "execution_count": 16,
   "id": "f6929bce-1abd-4840-8761-e02fb7fdf601",
   "metadata": {},
   "outputs": [],
   "source": [
    "# A new obstacle can only be effectively placed where the guard is already traversing\n",
    "\n",
    "# Locate coordinates of all 'X' values placed from traversal\n",
    "traversed_coords = []\n",
    "\n",
    "for row in range(matrix.shape[0]):\n",
    "    for col in range(matrix.shape[1]):\n",
    "        if matrix[row][col] == 'X':\n",
    "            traversed_coords.append([row, col])"
   ]
  },
  {
   "cell_type": "code",
   "execution_count": 17,
   "id": "a88de5c7-cd68-4ec4-a5f5-f534f852a98e",
   "metadata": {},
   "outputs": [
    {
     "data": {
      "text/plain": [
       "True"
      ]
     },
     "execution_count": 17,
     "metadata": {},
     "output_type": "execute_result"
    }
   ],
   "source": [
    "# Should be same length as number of 'X' values found earlier\n",
    "len(traversed_coords) == part1_solution"
   ]
  },
  {
   "cell_type": "code",
   "execution_count": 18,
   "id": "c4ce5133-fb9a-43d7-9b93-5e9ce7406653",
   "metadata": {},
   "outputs": [],
   "source": [
    "# Find all indexes of specified coordinates\n",
    "def find_indexes(sequence, coordinates):\n",
    "    return [index for index, element in enumerate(sequence) if element == coordinates]"
   ]
  },
  {
   "cell_type": "code",
   "execution_count": 19,
   "id": "c9b75ed6-24d2-4126-bfed-04031056bf8c",
   "metadata": {},
   "outputs": [],
   "source": [
    "# If guard ever crosses the same 2 sequential spaces on 2 different occasions, they are in a circuit\n",
    "\n",
    "def is_stuck(test_matrix):\n",
    "    start_row = 32\n",
    "    start_col = 80\n",
    "    start_direction = 'up'\n",
    "\n",
    "    # Instantiate list of traveled points\n",
    "    sequence = []\n",
    "\n",
    "    current_row = start_row\n",
    "    current_col = start_col\n",
    "    direction = start_direction\n",
    "    \n",
    "    # Continually move, while able\n",
    "    while (True) :\n",
    "        # Place 'X' at current position\n",
    "        test_matrix[current_row][current_col] = 'X'\n",
    "        # Log current position in the sequence\n",
    "        sequence.append([current_row, current_col])\n",
    "        # Determine destination\n",
    "        destination_row, destination_col = destination(direction, current_row, current_col)\n",
    "        # Determine if destination is out of bounds\n",
    "        if (out_of_bounds(destination_row, destination_col, test_matrix)):\n",
    "            # Guard is leaving, is not stuck\n",
    "            return False\n",
    "        # Determine if destination is an obstacle\n",
    "        elif (test_matrix[destination_row][destination_col] == '#') or (test_matrix[destination_row][destination_col] == 'O'):\n",
    "            # Change direction by 90 degrees clockwise\n",
    "            direction = new_direction(direction)\n",
    "            # Continue without moving to the destination (simply turn direction)\n",
    "            continue\n",
    "        # Check if destination previously visited\n",
    "        elif test_matrix[destination_row][destination_col] == 'X':\n",
    "            # Determine if current position -> destination has already been traversed\n",
    "            sequence_indexes = find_indexes(sequence, [current_row, current_col])\n",
    "            for i in sequence_indexes:\n",
    "                if (i + 1 < len(sequence)) and (sequence[i + 1] == [destination_row, destination_col]):\n",
    "                    # Guard is stuck in a circuit\n",
    "                    return True\n",
    "        # Otherwise, move to destination and continue\n",
    "        current_row = destination_row\n",
    "        current_col = destination_col"
   ]
  },
  {
   "cell_type": "code",
   "execution_count": 20,
   "id": "c4a516b3-fbd8-4570-b42b-05a40ebc1493",
   "metadata": {},
   "outputs": [
    {
     "name": "stdout",
     "output_type": "stream",
     "text": [
      "Cannot place at start\n"
     ]
    }
   ],
   "source": [
    "# Iterate through matrix, testing each variation by adding an obstacle at a coordinate from traversal list\n",
    "\n",
    "successful_obstacle_count = 0\n",
    "\n",
    "# Obtain fresh matrix\n",
    "fresh_matrix = np.array([list(line.strip()) for line in lines])\n",
    "\n",
    "iter_count = 0\n",
    "\n",
    "# Iterate through coordinates\n",
    "for row, col in traversed_coords:\n",
    "    # Generate fresh matrix\n",
    "    test_matrix = fresh_matrix.copy()\n",
    "    # Ensure obstacle isn't being placed at starting position\n",
    "    if (test_matrix[row][col] == '^'):\n",
    "        print('Cannot place at start')\n",
    "        continue\n",
    "    else:\n",
    "        # Add obstacle and test if guard is stuck\n",
    "        test_matrix[row][col] = 'O'\n",
    "        stuck = is_stuck(test_matrix)\n",
    "        if (stuck):\n",
    "            successful_obstacle_count += 1\n",
    "\n",
    "    \"\"\"\n",
    "    # Intermittently print results updates\n",
    "    iter_count += 1\n",
    "    if (iter_count % 100 == 0) or (iter_count == 1) or iter_count == len(traversed_coords) - 1:\n",
    "        \n",
    "        print(f'Iteration: {iter_count} / {len(traversed_coords) - 1}')\n",
    "        print(f'Successful Obstacle Count: {successful_obstacle_count}\\n')\n",
    "    \"\"\""
   ]
  },
  {
   "cell_type": "code",
   "execution_count": 21,
   "id": "c9261b23-d20c-4827-9a6e-34de83c4a7b9",
   "metadata": {},
   "outputs": [
    {
     "data": {
      "text/plain": [
       "'\\ntest_matrix[32][80] = \\'^\\'\\nprint(f\"Testing obstacle at ({row}, {col})\")\\nfor line in test_matrix:\\n    print(\"\".join(line))\\n'"
      ]
     },
     "execution_count": 21,
     "metadata": {},
     "output_type": "execute_result"
    }
   ],
   "source": [
    "# Debug visualization\n",
    "\"\"\"\n",
    "test_matrix[32][80] = '^'\n",
    "print(f\"Testing obstacle at ({row}, {col})\")\n",
    "for line in test_matrix:\n",
    "    print(\"\".join(line))\n",
    "\"\"\""
   ]
  },
  {
   "cell_type": "code",
   "execution_count": 22,
   "id": "388a5288-2750-4213-9400-6346dbd3befc",
   "metadata": {},
   "outputs": [],
   "source": [
    "part2_solution = successful_obstacle_count"
   ]
  }
 ],
 "metadata": {
  "kernelspec": {
   "display_name": "Python 3 (ipykernel)",
   "language": "python",
   "name": "python3"
  },
  "language_info": {
   "codemirror_mode": {
    "name": "ipython",
    "version": 3
   },
   "file_extension": ".py",
   "mimetype": "text/x-python",
   "name": "python",
   "nbconvert_exporter": "python",
   "pygments_lexer": "ipython3",
   "version": "3.11.7"
  }
 },
 "nbformat": 4,
 "nbformat_minor": 5
}
