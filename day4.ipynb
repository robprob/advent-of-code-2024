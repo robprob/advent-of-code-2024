{
 "cells": [
  {
   "cell_type": "markdown",
   "id": "8758dca6-e359-4521-8ac3-1a92b646d0db",
   "metadata": {},
   "source": [
    "# Day 4: Ceres Search"
   ]
  },
  {
   "cell_type": "markdown",
   "id": "8dc8adcf-5905-4fcb-8721-2d72eef54b7b",
   "metadata": {},
   "source": [
    "## Day 1"
   ]
  },
  {
   "cell_type": "code",
   "execution_count": 3,
   "id": "85cc1e72-9326-4c6f-b119-243fba5d7319",
   "metadata": {},
   "outputs": [],
   "source": [
    "import pandas as pd\n",
    "import numpy as np"
   ]
  },
  {
   "cell_type": "code",
   "execution_count": 4,
   "id": "16285bec-f4e9-46de-ad8c-c692f12ad6eb",
   "metadata": {},
   "outputs": [],
   "source": [
    "# Read lines from input\n",
    "with open('Input Files/day4.txt', 'r') as f:\n",
    "    lines = f.readlines()\n",
    "\n",
    "# Convert to a matrix\n",
    "matrix = np.array([list(line.strip()) for line in lines])"
   ]
  },
  {
   "cell_type": "code",
   "execution_count": 5,
   "id": "2e0e545e-1bb1-48e3-96d3-111a57c75ec6",
   "metadata": {},
   "outputs": [
    {
     "data": {
      "text/plain": [
       "(140, 140)"
      ]
     },
     "execution_count": 5,
     "metadata": {},
     "output_type": "execute_result"
    }
   ],
   "source": [
    "matrix.shape"
   ]
  },
  {
   "cell_type": "code",
   "execution_count": 6,
   "id": "dcf92b70-89c3-4858-ab7c-7ec1467fcb16",
   "metadata": {},
   "outputs": [],
   "source": [
    "# Initialize count of word 'XMAS'\n",
    "xmas_count = 0"
   ]
  },
  {
   "cell_type": "code",
   "execution_count": 7,
   "id": "c5133099-4af3-4f1e-a827-f05576965844",
   "metadata": {},
   "outputs": [],
   "source": [
    "# Check horizonal matches to the right\n",
    "def check_right(row, col):\n",
    "    global xmas_count\n",
    "    # Ensure there is room to check\n",
    "    if (col <= matrix.shape[1] - 4):\n",
    "        string = matrix[row][col + 1] + matrix[row][col + 2] + matrix[row][col + 3]\n",
    "        if string == 'MAS':\n",
    "            xmas_count += 1\n",
    "\n",
    "# Check southeast diagonal\n",
    "def check_down_right(row, col):\n",
    "    global xmas_count\n",
    "    # Ensure there is room to check\n",
    "    if (col <= matrix.shape[1] - 4) and (row <= matrix.shape[0] - 4):\n",
    "        string = matrix[row + 1][col + 1] + matrix[row + 2][col + 2] + matrix[row + 3][col + 3]\n",
    "        if string == 'MAS':\n",
    "            xmas_count += 1\n",
    "        \n",
    "\n",
    "# Check matches downwards\n",
    "def check_down(row, col):\n",
    "    global xmas_count\n",
    "    # Ensure there is room to check\n",
    "    if (row <= matrix.shape[0] - 4):\n",
    "        string = matrix[row + 1][col] + matrix[row + 2][col] + matrix[row + 3][col]\n",
    "        if string == 'MAS':\n",
    "            xmas_count += 1\n",
    "\n",
    "# Check southwest diagonal\n",
    "def check_down_left(row, col):\n",
    "    global xmas_count\n",
    "    # Ensure there is room to check\n",
    "    if (row <= matrix.shape[0] - 4) and (col - 3 >= 0):\n",
    "        string = matrix[row + 1][col - 1] + matrix[row + 2][col - 2] + matrix[row + 3][col - 3]\n",
    "        if string == 'MAS':\n",
    "            xmas_count += 1\n",
    "\n",
    "\n",
    "# Check horizontal matches to the left\n",
    "def check_left(row, col):\n",
    "    global xmas_count\n",
    "    # Ensure there is room to check\n",
    "    if (col - 3 >= 0):\n",
    "        string = matrix[row][col - 1] + matrix[row][col - 2] + matrix[row][col - 3]\n",
    "        if string == 'MAS':\n",
    "            xmas_count += 1\n",
    "\n",
    "# Check northwest diagonal\n",
    "def check_up_left(row, col):\n",
    "    global xmas_count\n",
    "    # Ensure there is room to check\n",
    "    if (row - 3 >= 0) and (col - 3 >= 0):\n",
    "        string = matrix[row - 1][col - 1] + matrix[row - 2][col - 2] + matrix[row - 3][col - 3]\n",
    "        if string == 'MAS':\n",
    "            xmas_count += 1\n",
    "\n",
    "# Check matches upwards\n",
    "def check_up(row, col):\n",
    "    global xmas_count\n",
    "    # Ensure there is room to check\n",
    "    if (row - 3 >= 0):\n",
    "        string = matrix[row - 1][col] + matrix[row - 2][col] + matrix[row - 3][col]\n",
    "        if string == 'MAS':\n",
    "            xmas_count += 1\n",
    "\n",
    "# Check northeast diagonal\n",
    "def check_up_right(row, col):\n",
    "    global xmas_count\n",
    "    # Ensure there is room to check\n",
    "    if (row - 3 >= 0) and (col <= matrix.shape[1] - 4):\n",
    "        string = matrix[row - 1][col + 1] + matrix[row - 2][col + 2] + matrix[row - 3][col + 3]\n",
    "        if string == 'MAS':\n",
    "            xmas_count += 1"
   ]
  },
  {
   "cell_type": "code",
   "execution_count": 8,
   "id": "f075ee38-fea1-4b50-94a4-491757f205bf",
   "metadata": {},
   "outputs": [],
   "source": [
    "# Iterate through each character in maze\n",
    "for row in range(matrix.shape[0]):\n",
    "    for col in range(matrix.shape[1]):\n",
    "        # If char is 'X', check each cardinal/orginal direction for match\n",
    "        if matrix[row][col] == 'X':\n",
    "            check_right(row,col)\n",
    "            check_down_right(row,col)\n",
    "            check_down(row,col)\n",
    "            check_down_left(row,col)\n",
    "            check_left(row,col)\n",
    "            check_up_left(row,col)\n",
    "            check_up(row,col)\n",
    "            check_up_right(row,col)"
   ]
  },
  {
   "cell_type": "code",
   "execution_count": 9,
   "id": "ff0be63d-5071-47a0-b33e-38b90627d55e",
   "metadata": {},
   "outputs": [],
   "source": [
    "part1_solution = xmas_count"
   ]
  },
  {
   "cell_type": "markdown",
   "id": "11ce7102-7713-468f-8cd3-b3c924eb7a3f",
   "metadata": {},
   "source": [
    "## Part 2"
   ]
  },
  {
   "cell_type": "code",
   "execution_count": 11,
   "id": "07b17324-654a-4918-ba96-3d843876dcaf",
   "metadata": {},
   "outputs": [
    {
     "data": {
      "text/plain": [
       "'\\nM-S\\n-A-\\nM-S\\n'"
      ]
     },
     "execution_count": 11,
     "metadata": {},
     "output_type": "execute_result"
    }
   ],
   "source": [
    "# Initialize count of 'MAS' crosses\n",
    "cross_mas_count = 0\n",
    "\n",
    "# Example\n",
    "\"\"\"\n",
    "M-S\n",
    "-A-\n",
    "M-S\n",
    "\"\"\""
   ]
  },
  {
   "cell_type": "code",
   "execution_count": 12,
   "id": "d69228d9-bf4a-47b8-9d9a-d8429dfd6cac",
   "metadata": {},
   "outputs": [],
   "source": [
    "# Check for cross matches\n",
    "def check_cross_mas(row, col):\n",
    "    global cross_mas_count\n",
    "    # Check for middle value, which is always 'A'\n",
    "    if matrix[row][col] == 'A':\n",
    "        # Check if there is room for the crosses\n",
    "        if (row - 1 >= 0) and (row + 1 <= matrix.shape[0] - 1) and (col - 1 >= 0) and (col + 1 <= matrix.shape[1] - 1):\n",
    "            # Find and return both cross strings (leaving out 'A' for efficiency)\n",
    "            cross1 = matrix[row - 1][col - 1] + matrix[row + 1][col + 1]\n",
    "            cross2 = matrix[row - 1][col + 1] + matrix[row + 1][col - 1]\n",
    "            # Ensure both crosses are valid ('MAS' or 'SAM')\n",
    "            if (cross1 == 'MS' or cross1 == 'SM') and (cross2 == 'MS' or cross2 == 'SM'):\n",
    "                cross_mas_count += 1"
   ]
  },
  {
   "cell_type": "code",
   "execution_count": 13,
   "id": "96c99c41-7abf-4cde-9264-8e488f3def6b",
   "metadata": {},
   "outputs": [],
   "source": [
    "# Iterate through each character in maze\n",
    "for row in range(matrix.shape[0]):\n",
    "    for col in range(matrix.shape[1]):\n",
    "        # Check for a cross match\n",
    "        check_cross_mas(row,col)"
   ]
  },
  {
   "cell_type": "code",
   "execution_count": 14,
   "id": "0cc21cff-01c6-423b-b586-67a052fed1c7",
   "metadata": {},
   "outputs": [],
   "source": [
    "part2_solution = cross_mas_count"
   ]
  }
 ],
 "metadata": {
  "kernelspec": {
   "display_name": "Python 3 (ipykernel)",
   "language": "python",
   "name": "python3"
  },
  "language_info": {
   "codemirror_mode": {
    "name": "ipython",
    "version": 3
   },
   "file_extension": ".py",
   "mimetype": "text/x-python",
   "name": "python",
   "nbconvert_exporter": "python",
   "pygments_lexer": "ipython3",
   "version": "3.11.7"
  }
 },
 "nbformat": 4,
 "nbformat_minor": 5
}
