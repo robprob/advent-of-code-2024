{
 "cells": [
  {
   "cell_type": "markdown",
   "id": "3fb24df9-1a79-4a76-8d02-abaa2cf18477",
   "metadata": {},
   "source": [
    "# Day 8: Resonant Collinearity"
   ]
  },
  {
   "cell_type": "markdown",
   "id": "a604770d-b285-4dfe-8a32-04944933e684",
   "metadata": {},
   "source": [
    "## Part 1"
   ]
  },
  {
   "cell_type": "code",
   "execution_count": 4,
   "id": "016655da-b218-477c-9a84-43c684464f56",
   "metadata": {},
   "outputs": [],
   "source": [
    "import pandas as pd\n",
    "import numpy as np"
   ]
  },
  {
   "cell_type": "code",
   "execution_count": 5,
   "id": "0da1eb78-e350-459d-a964-90a0ac5ada7f",
   "metadata": {},
   "outputs": [],
   "source": [
    "# Read lines from input\n",
    "with open('Input Files/day8.txt') as f:\n",
    "    lines = f.readlines()\n",
    "\n",
    "# Convert to matrix\n",
    "matrix = np.array([list(line.strip()) for line in lines])"
   ]
  },
  {
   "cell_type": "code",
   "execution_count": 6,
   "id": "c88be940-ba08-48c7-99a8-6f8afb31ee4f",
   "metadata": {},
   "outputs": [],
   "source": [
    "# Create dictionary of nodes and their coordinates\n",
    "nodes_dict = {}\n",
    "nodes_coords = set()\n",
    "for i in range(matrix.shape[0]):\n",
    "    for j in range(matrix.shape[1]):\n",
    "        if matrix[i][j] != '.':\n",
    "            # Add to dictionary\n",
    "            nodes_dict.setdefault(matrix[i][j], []).extend([(i, j)])\n",
    "            nodes_coords.add((i, j))"
   ]
  },
  {
   "cell_type": "code",
   "execution_count": 7,
   "id": "804b9b23-b404-4588-8071-fd99fc22b0fb",
   "metadata": {},
   "outputs": [],
   "source": [
    "# Check if coordinates out of bounds\n",
    "def out_of_bounds(coordinates):\n",
    "    if (coordinates[0] < 0) or (coordinates[1] < 0) or (coordinates[0] >= matrix.shape[0]) or (coordinates[1] >= matrix.shape[1]):\n",
    "        return True\n",
    "    else:\n",
    "        return False"
   ]
  },
  {
   "cell_type": "code",
   "execution_count": 8,
   "id": "c5b8f2e2-f25d-419e-b397-fde8165400b7",
   "metadata": {},
   "outputs": [],
   "source": [
    "# Create set of antinode coords (no duplicates)\n",
    "antinode_coords = set()\n",
    "\n",
    "# Iterate through node types, determine where antinodes should be placed\n",
    "for node_type in nodes_dict.keys():\n",
    "    nodes = nodes_dict[node_type]\n",
    "    # Check distance with each node\n",
    "    for i in range(len(nodes)):\n",
    "        # Don't check node with itself\n",
    "        for j in range(i + 1, len(nodes)):\n",
    "            node1 = nodes[i]\n",
    "            node2 = nodes[j]\n",
    "            \n",
    "            # Find relative distance between nodes\n",
    "            vertical = node1[0] - node2[0]\n",
    "            horizontal = node1[1] - node2[1]\n",
    "            \n",
    "            # Define antinodes\n",
    "            antinode_1 = (node1[0] + vertical, node1[1] + horizontal)\n",
    "            antinode_2 = (node2[0] - vertical, node2[1] - horizontal)\n",
    "\n",
    "            # Check if out of bounds else add to set of antinode_coords\n",
    "            if not out_of_bounds(antinode_1):\n",
    "                antinode_coords.add(antinode_1)\n",
    "            if not out_of_bounds(antinode_2):\n",
    "                antinode_coords.add(antinode_2)"
   ]
  },
  {
   "cell_type": "code",
   "execution_count": 9,
   "id": "b35461dd-88e6-4e4e-b42a-4d968d633dbc",
   "metadata": {},
   "outputs": [],
   "source": [
    "part1_solution = len(antinode_coords)"
   ]
  },
  {
   "cell_type": "markdown",
   "id": "1d543935-bde1-4e96-8a62-f8d217e693cf",
   "metadata": {},
   "source": [
    "## Part 2"
   ]
  },
  {
   "cell_type": "code",
   "execution_count": 11,
   "id": "43f8ae5f-c6bf-46da-ab11-ffcdace32ef5",
   "metadata": {},
   "outputs": [],
   "source": [
    "# Implement infinitely resonant antinodes\n",
    "def add_resonants(antinode, vertical, horizontal):\n",
    "    while True:\n",
    "        new_resonant = (antinode[0] + vertical, antinode[1] + horizontal)\n",
    "        if not out_of_bounds(new_resonant):\n",
    "            antinode_coords.add(new_resonant)\n",
    "            antinode = new_resonant\n",
    "        else:\n",
    "            break"
   ]
  },
  {
   "cell_type": "code",
   "execution_count": 12,
   "id": "9382729e-1ed2-4180-8cc7-d91a0513a2e9",
   "metadata": {},
   "outputs": [],
   "source": [
    "# Create set of antinode coords (no duplicates)\n",
    "antinode_coords = set()\n",
    "\n",
    "# Iterate through node types, determine where antinodes should be placed\n",
    "for node_type in nodes_dict.keys():\n",
    "    nodes = nodes_dict[node_type]\n",
    "    # Check distance with each node\n",
    "    for i in range(len(nodes)):\n",
    "        # Don't check node with itself\n",
    "        for j in range(i + 1, len(nodes)):\n",
    "            node1 = nodes[i]\n",
    "            node2 = nodes[j]\n",
    "            \n",
    "            # Find relative distance between nodes\n",
    "            vertical = node1[0] - node2[0]\n",
    "            horizontal = node1[1] - node2[1]\n",
    "            \n",
    "            # Define antinodes\n",
    "            antinode_1 = (node1[0] + vertical, node1[1] + horizontal)\n",
    "            antinode_2 = (node2[0] - vertical, node2[1] - horizontal)\n",
    "\n",
    "            # Check if out of bounds else add to set of antinode_coords\n",
    "            if not out_of_bounds(antinode_1):\n",
    "                antinode_coords.add(antinode_1)\n",
    "                add_resonants(antinode_1, vertical, horizontal)\n",
    "            if not out_of_bounds(antinode_2):\n",
    "                antinode_coords.add(antinode_2)\n",
    "                add_resonants(antinode_2, -vertical, -horizontal)\n",
    "\n",
    "            # Continue adding infinitely resonant antinodes in other direction\n",
    "            add_resonants(antinode_1, -vertical, -horizontal)\n",
    "            add_resonants(antinode_2, -vertical, -horizontal)"
   ]
  },
  {
   "cell_type": "code",
   "execution_count": 13,
   "id": "1e5f8fa4-b1dd-4328-bd5f-703d9154dab7",
   "metadata": {},
   "outputs": [],
   "source": [
    "part2_solution = len(antinode_coords)"
   ]
  }
 ],
 "metadata": {
  "kernelspec": {
   "display_name": "Python 3 (ipykernel)",
   "language": "python",
   "name": "python3"
  },
  "language_info": {
   "codemirror_mode": {
    "name": "ipython",
    "version": 3
   },
   "file_extension": ".py",
   "mimetype": "text/x-python",
   "name": "python",
   "nbconvert_exporter": "python",
   "pygments_lexer": "ipython3",
   "version": "3.11.7"
  }
 },
 "nbformat": 4,
 "nbformat_minor": 5
}
