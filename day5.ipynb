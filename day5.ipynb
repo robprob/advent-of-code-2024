{
 "cells": [
  {
   "cell_type": "markdown",
   "id": "e120c547-915c-40da-a22a-32aa3542a631",
   "metadata": {},
   "source": [
    "# Day 5: Print Queue"
   ]
  },
  {
   "cell_type": "markdown",
   "id": "e8b2ec04-1d8e-4619-8a6f-957f755b48da",
   "metadata": {},
   "source": [
    "## Part 1"
   ]
  },
  {
   "cell_type": "code",
   "execution_count": 3,
   "id": "a71d061d-7b90-4c12-8eb5-3c57a0d87ffc",
   "metadata": {},
   "outputs": [],
   "source": [
    "import pandas as pd\n",
    "import numpy as np"
   ]
  },
  {
   "cell_type": "code",
   "execution_count": 4,
   "id": "d75ed881-b2c7-42ca-9bdc-21431bfea03b",
   "metadata": {},
   "outputs": [],
   "source": [
    "with open('Input Files/day5.txt', 'r') as f:\n",
    "    lines = f.readlines()\n",
    "\n",
    "printer = pd.Series([line.strip() for line in lines])"
   ]
  },
  {
   "cell_type": "code",
   "execution_count": 5,
   "id": "aef517a7-00d9-4039-901b-ed86119cd072",
   "metadata": {},
   "outputs": [],
   "source": [
    "# Parse out ordering rules (containing '|')\n",
    "ordering_rules = printer[printer.str.contains('|', regex=False)]"
   ]
  },
  {
   "cell_type": "code",
   "execution_count": 6,
   "id": "9109e9df-e1dd-4916-a76c-83281c46a73d",
   "metadata": {},
   "outputs": [],
   "source": [
    "# Split ordering rules into more manageable format\n",
    "ordering_rules = ordering_rules.str.split('\\|')"
   ]
  },
  {
   "cell_type": "code",
   "execution_count": 7,
   "id": "85ff67b3-1540-45c5-a8ec-3e5cf4569d6f",
   "metadata": {},
   "outputs": [],
   "source": [
    "# Parse out printed order data\n",
    "print_order = printer[~printer.str.contains('|', regex=False)]\n",
    "\n",
    "print_order = print_order.reset_index(drop=True).str.split(',').drop(0)"
   ]
  },
  {
   "cell_type": "code",
   "execution_count": 8,
   "id": "38d3207b-5a13-44bb-98ad-2c8930103479",
   "metadata": {},
   "outputs": [],
   "source": [
    "# Instantiate list of correctly ordered pages\n",
    "correctly_ordered = []\n",
    "\n",
    "# Iterate through printed order data\n",
    "for line in print_order:\n",
    "    correct = True\n",
    "    # Iterate over ordering rules\n",
    "    for rule in ordering_rules:\n",
    "        # Determine that both rule values are in that line\n",
    "        if (rule[0] in line) and (rule[1] in line):\n",
    "            # Ensure index of first rule is before index of second\n",
    "            if line.index(rule[0]) < line.index(rule[1]):\n",
    "                # Continue to next rule\n",
    "                continue\n",
    "            else:\n",
    "                # Set as not correctly ordered\n",
    "                correct = False\n",
    "                # Do not continue checking rules\n",
    "                break\n",
    "        else:\n",
    "            # Continue to next rule\n",
    "            continue\n",
    "    # If still correct, append to list of correct print orders\n",
    "    if correct:\n",
    "        correctly_ordered.append(line)"
   ]
  },
  {
   "cell_type": "code",
   "execution_count": 9,
   "id": "2874dd68-9961-48db-bb09-1b048d6de607",
   "metadata": {},
   "outputs": [],
   "source": [
    "# Function to calculate sum of the middle array values (lower)\n",
    "def sum_of_mid(arrays):\n",
    "    middle_values = []\n",
    "    for line in arrays:\n",
    "        length = len(line)\n",
    "        mid_index = length//2\n",
    "        mid_value = int(line[mid_index])\n",
    "        middle_values.append(mid_value)\n",
    "    return sum(middle_values)"
   ]
  },
  {
   "cell_type": "code",
   "execution_count": 10,
   "id": "e806fb45-21b2-4ae3-9cbf-beb1ad3e9975",
   "metadata": {},
   "outputs": [],
   "source": [
    "# Calculate sum of middle values\n",
    "part1_solution = sum_of_mid(correctly_ordered)"
   ]
  },
  {
   "cell_type": "markdown",
   "id": "777207d5-9d97-4672-a736-9323dd3bf358",
   "metadata": {},
   "source": [
    "## Part 2"
   ]
  },
  {
   "cell_type": "code",
   "execution_count": 12,
   "id": "aaf8c2e2-441d-48b6-b071-120b11a28338",
   "metadata": {},
   "outputs": [],
   "source": [
    "# Locate the INCORRECT print lists\n",
    "incorrectly_ordered = []\n",
    "\n",
    "# Iterate through printed order data\n",
    "for line in print_order:\n",
    "    correct = True\n",
    "    # Iterate over ordering rules\n",
    "    for rule in ordering_rules:\n",
    "        # Determine that both rule values are in that line\n",
    "        if (rule[0] in line) and (rule[1] in line):\n",
    "            # Ensure index of first rule is before index of second\n",
    "            if line.index(rule[0]) < line.index(rule[1]):\n",
    "                # Continue to next rule\n",
    "                continue\n",
    "            else:\n",
    "                # Set as not correctly ordered\n",
    "                correct = False\n",
    "                # Do not continue checking rules\n",
    "                break\n",
    "        else:\n",
    "            # Continue to next rule\n",
    "            continue\n",
    "    # If not correct, append to list of incorrect print orders\n",
    "    if not correct:\n",
    "        incorrectly_ordered.append(line)"
   ]
  },
  {
   "cell_type": "code",
   "execution_count": 13,
   "id": "a0001495-d5dc-4ebb-b2c9-505b878ca2f6",
   "metadata": {},
   "outputs": [
    {
     "data": {
      "text/plain": [
       "102"
      ]
     },
     "execution_count": 13,
     "metadata": {},
     "output_type": "execute_result"
    }
   ],
   "source": [
    "len(incorrectly_ordered)"
   ]
  },
  {
   "cell_type": "code",
   "execution_count": 14,
   "id": "1622ce1e-7dd2-44a2-b5de-215a43da4df9",
   "metadata": {},
   "outputs": [],
   "source": [
    "# Iterate through the incorrectly ordered, swapping the incorrect pages to fix them\n",
    "\n",
    "# Iterate through printed order data\n",
    "def fix_order(incorrectly_ordered):\n",
    "    fixed_orders = []\n",
    "    for line in incorrectly_ordered:\n",
    "        # Iterate over ordering rules\n",
    "        for rule in ordering_rules:\n",
    "            # Determine that both rule values are in that line\n",
    "            if (rule[0] in line) and (rule[1] in line):\n",
    "                if line.index(rule[0]) < line.index(rule[1]):\n",
    "                    # Continue to next rule if already correct\n",
    "                    continue\n",
    "                else:\n",
    "                    # Correct the mistake by swapping the values\n",
    "                    first_index = line.index(rule[0])\n",
    "                    second_index = line.index(rule[1])\n",
    "                    \n",
    "                    temp_val = line[first_index]\n",
    "    \n",
    "                    line[first_index] = line[second_index]\n",
    "                    line[second_index] = temp_val\n",
    "            else:\n",
    "                # Continue to next rule\n",
    "                continue\n",
    "        # Add corrected order to list\n",
    "        fixed_orders.append(line)\n",
    "    return fixed_orders"
   ]
  },
  {
   "cell_type": "code",
   "execution_count": 15,
   "id": "e1ebb9bb-428e-4d82-b526-bee2e1fa6f07",
   "metadata": {},
   "outputs": [],
   "source": [
    "# Initial run\n",
    "fixed_orders = fix_order(incorrectly_ordered)\n",
    "\n",
    "# Continually run until all are correctly ordered and sum of middle values does not change\n",
    "while True:\n",
    "    previous_sum = sum_of_mid(fixed_orders)\n",
    "    fixed_orders = fix_order(fixed_orders)\n",
    "    current_sum = sum_of_mid(fixed_orders)\n",
    "    if current_sum == previous_sum:\n",
    "        final_sum_of_mid = current_sum\n",
    "        break"
   ]
  },
  {
   "cell_type": "code",
   "execution_count": 16,
   "id": "f83594b0-13df-45e0-906f-8bd7d5071f16",
   "metadata": {},
   "outputs": [],
   "source": [
    "part2_solution = final_sum_of_mid"
   ]
  }
 ],
 "metadata": {
  "kernelspec": {
   "display_name": "Python 3 (ipykernel)",
   "language": "python",
   "name": "python3"
  },
  "language_info": {
   "codemirror_mode": {
    "name": "ipython",
    "version": 3
   },
   "file_extension": ".py",
   "mimetype": "text/x-python",
   "name": "python",
   "nbconvert_exporter": "python",
   "pygments_lexer": "ipython3",
   "version": "3.11.7"
  }
 },
 "nbformat": 4,
 "nbformat_minor": 5
}
