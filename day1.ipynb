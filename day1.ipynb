{
 "cells": [
  {
   "cell_type": "markdown",
   "id": "c7051acf-74bc-4594-a8ae-3d1ce0345282",
   "metadata": {},
   "source": [
    "# Day 1: Historian Hysteria"
   ]
  },
  {
   "cell_type": "markdown",
   "id": "b4ca1609-d3a6-46ae-99dd-863d616a0d9d",
   "metadata": {},
   "source": [
    "## Part 1"
   ]
  },
  {
   "cell_type": "code",
   "execution_count": 3,
   "id": "55505dfa-bac1-46c0-80e7-3ff98eadea12",
   "metadata": {},
   "outputs": [],
   "source": [
    "import pandas as pd\n",
    "import numpy as np"
   ]
  },
  {
   "cell_type": "code",
   "execution_count": 4,
   "id": "75ac2dc2-e047-4fb5-a514-b0c4c585ec25",
   "metadata": {},
   "outputs": [],
   "source": [
    "# Load data into df\n",
    "day1data = pd.read_csv('Input Files/day1.txt', index_col=None, header=None, sep='   ', engine='python', names=['Point1', 'Point2'])"
   ]
  },
  {
   "cell_type": "code",
   "execution_count": 5,
   "id": "247feb33-301e-4f07-8c1e-38c324cbc097",
   "metadata": {},
   "outputs": [],
   "source": [
    "# Sort values in ascending order\n",
    "point1 = day1data['Point1'].sort_values().reset_index(drop=True)\n",
    "point2 = day1data['Point2'].sort_values().reset_index(drop=True)"
   ]
  },
  {
   "cell_type": "code",
   "execution_count": 6,
   "id": "ade5d9d9-6eb8-44ea-9367-ba5989901084",
   "metadata": {},
   "outputs": [],
   "source": [
    "sorted_df = pd.DataFrame({'Point1': point1, 'Point2': point2})"
   ]
  },
  {
   "cell_type": "code",
   "execution_count": 7,
   "id": "98a24ad5-9048-4824-96df-1fcee0e3991f",
   "metadata": {},
   "outputs": [],
   "source": [
    "# Calculate distance between points\n",
    "sorted_df['Distance'] = (sorted_df['Point2'] - sorted_df['Point1']).abs()"
   ]
  },
  {
   "cell_type": "code",
   "execution_count": 8,
   "id": "856607ff-3daf-4f8d-a688-1067454d0f4a",
   "metadata": {},
   "outputs": [],
   "source": [
    "# Calculate sum of distances \n",
    "part1_solution = sorted_df['Distance'].sum()"
   ]
  },
  {
   "cell_type": "markdown",
   "id": "0cd27ad9-826f-4d0e-9345-2ffb4cc3e884",
   "metadata": {},
   "source": [
    "## Part 2"
   ]
  },
  {
   "cell_type": "code",
   "execution_count": 10,
   "id": "f5cdf574-82cb-45fe-bfc2-2185520c3656",
   "metadata": {},
   "outputs": [],
   "source": [
    "# Determine value counts for second points\n",
    "point2_value_count = sorted_df['Point2'].value_counts()"
   ]
  },
  {
   "cell_type": "code",
   "execution_count": 11,
   "id": "45f79fd1-1d11-4168-9bcf-e2d17b308f19",
   "metadata": {},
   "outputs": [],
   "source": [
    "# Merge based on value counts and calculate similarity scores\n",
    "similarity = sorted_df.merge(point2_value_count, how='inner', left_on='Point1', right_index=True).fillna(0)\n",
    "similarity['SimilarityScore'] = similarity['Point1'] * similarity['count']"
   ]
  },
  {
   "cell_type": "code",
   "execution_count": 12,
   "id": "08aaf4b0-8566-44fa-807b-ab34c69d54d0",
   "metadata": {},
   "outputs": [],
   "source": [
    "# Calculate sum of similarity scores\n",
    "part2_solution = similarity['SimilarityScore'].sum()"
   ]
  }
 ],
 "metadata": {
  "kernelspec": {
   "display_name": "Python 3 (ipykernel)",
   "language": "python",
   "name": "python3"
  },
  "language_info": {
   "codemirror_mode": {
    "name": "ipython",
    "version": 3
   },
   "file_extension": ".py",
   "mimetype": "text/x-python",
   "name": "python",
   "nbconvert_exporter": "python",
   "pygments_lexer": "ipython3",
   "version": "3.11.7"
  }
 },
 "nbformat": 4,
 "nbformat_minor": 5
}
