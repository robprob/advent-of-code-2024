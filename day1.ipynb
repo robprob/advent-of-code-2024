{
 "cells": [
  {
   "cell_type": "markdown",
   "id": "c7051acf-74bc-4594-a8ae-3d1ce0345282",
   "metadata": {},
   "source": [
    "# Day 1: Historian Hysteria"
   ]
  },
  {
   "cell_type": "markdown",
   "id": "b4ca1609-d3a6-46ae-99dd-863d616a0d9d",
   "metadata": {},
   "source": [
    "## Part 1"
   ]
  },
  {
   "cell_type": "code",
   "execution_count": 10,
   "id": "55505dfa-bac1-46c0-80e7-3ff98eadea12",
   "metadata": {},
   "outputs": [],
   "source": [
    "import pandas as pd\n",
    "import numpy as np"
   ]
  },
  {
   "cell_type": "code",
   "execution_count": 11,
   "id": "75ac2dc2-e047-4fb5-a514-b0c4c585ec25",
   "metadata": {},
   "outputs": [],
   "source": [
    "# Load data into a dataframe\n",
    "day1data = pd.read_csv('Input Files/day1.txt', index_col=None, header=None, sep='   ', engine='python', names=['Point1', 'Point2'])"
   ]
  },
  {
   "cell_type": "code",
   "execution_count": 13,
   "id": "247feb33-301e-4f07-8c1e-38c324cbc097",
   "metadata": {},
   "outputs": [],
   "source": [
    "# Sort values in ascending order\n",
    "point1 = day1data['Point1'].sort_values().reset_index(drop=True)\n",
    "point2 = day1data['Point2'].sort_values().reset_index(drop=True)"
   ]
  },
  {
   "cell_type": "code",
   "execution_count": 14,
   "id": "ade5d9d9-6eb8-44ea-9367-ba5989901084",
   "metadata": {},
   "outputs": [
    {
     "data": {
      "text/html": [
       "<div>\n",
       "<style scoped>\n",
       "    .dataframe tbody tr th:only-of-type {\n",
       "        vertical-align: middle;\n",
       "    }\n",
       "\n",
       "    .dataframe tbody tr th {\n",
       "        vertical-align: top;\n",
       "    }\n",
       "\n",
       "    .dataframe thead th {\n",
       "        text-align: right;\n",
       "    }\n",
       "</style>\n",
       "<table border=\"1\" class=\"dataframe\">\n",
       "  <thead>\n",
       "    <tr style=\"text-align: right;\">\n",
       "      <th></th>\n",
       "      <th>Point1</th>\n",
       "      <th>Point2</th>\n",
       "    </tr>\n",
       "  </thead>\n",
       "  <tbody>\n",
       "    <tr>\n",
       "      <th>0</th>\n",
       "      <td>10002</td>\n",
       "      <td>10528</td>\n",
       "    </tr>\n",
       "    <tr>\n",
       "      <th>1</th>\n",
       "      <td>10006</td>\n",
       "      <td>10686</td>\n",
       "    </tr>\n",
       "    <tr>\n",
       "      <th>2</th>\n",
       "      <td>10246</td>\n",
       "      <td>10753</td>\n",
       "    </tr>\n",
       "    <tr>\n",
       "      <th>3</th>\n",
       "      <td>10254</td>\n",
       "      <td>10836</td>\n",
       "    </tr>\n",
       "    <tr>\n",
       "      <th>4</th>\n",
       "      <td>10272</td>\n",
       "      <td>11156</td>\n",
       "    </tr>\n",
       "  </tbody>\n",
       "</table>\n",
       "</div>"
      ],
      "text/plain": [
       "   Point1  Point2\n",
       "0   10002   10528\n",
       "1   10006   10686\n",
       "2   10246   10753\n",
       "3   10254   10836\n",
       "4   10272   11156"
      ]
     },
     "execution_count": 14,
     "metadata": {},
     "output_type": "execute_result"
    }
   ],
   "source": [
    "sorted_df = pd.DataFrame(data={'Point1': point1, 'Point2': point2})"
   ]
  },
  {
   "cell_type": "code",
   "execution_count": 37,
   "id": "98a24ad5-9048-4824-96df-1fcee0e3991f",
   "metadata": {},
   "outputs": [],
   "source": [
    "# Calculate distance between points\n",
    "sorted_df['Distance'] = (sorted_df['Point2'] - sorted_df['Point1']).abs()"
   ]
  },
  {
   "cell_type": "code",
   "execution_count": 39,
   "id": "856607ff-3daf-4f8d-a688-1067454d0f4a",
   "metadata": {},
   "outputs": [],
   "source": [
    "# Calculate sum of distances \n",
    "part1_solution = sorted_df['Distance'].sum()"
   ]
  },
  {
   "cell_type": "markdown",
   "id": "0cd27ad9-826f-4d0e-9345-2ffb4cc3e884",
   "metadata": {},
   "source": [
    "## Part 2"
   ]
  },
  {
   "cell_type": "code",
   "execution_count": 31,
   "id": "f5cdf574-82cb-45fe-bfc2-2185520c3656",
   "metadata": {},
   "outputs": [
    {
     "data": {
      "text/plain": [
       "Point2\n",
       "43603    20\n",
       "13284    19\n",
       "13575    19\n",
       "70247    19\n",
       "89542    18\n",
       "Name: count, dtype: int64"
      ]
     },
     "execution_count": 31,
     "metadata": {},
     "output_type": "execute_result"
    }
   ],
   "source": [
    "# Determine value counts for second points\n",
    "point2_value_count = sorted_df['Point2'].value_counts()\n",
    "point2_value_count.head()"
   ]
  },
  {
   "cell_type": "code",
   "execution_count": 33,
   "id": "45f79fd1-1d11-4168-9bcf-e2d17b308f19",
   "metadata": {},
   "outputs": [
    {
     "data": {
      "text/html": [
       "<div>\n",
       "<style scoped>\n",
       "    .dataframe tbody tr th:only-of-type {\n",
       "        vertical-align: middle;\n",
       "    }\n",
       "\n",
       "    .dataframe tbody tr th {\n",
       "        vertical-align: top;\n",
       "    }\n",
       "\n",
       "    .dataframe thead th {\n",
       "        text-align: right;\n",
       "    }\n",
       "</style>\n",
       "<table border=\"1\" class=\"dataframe\">\n",
       "  <thead>\n",
       "    <tr style=\"text-align: right;\">\n",
       "      <th></th>\n",
       "      <th>Point1</th>\n",
       "      <th>Point2</th>\n",
       "      <th>Distance</th>\n",
       "      <th>count</th>\n",
       "      <th>SimilarityScore</th>\n",
       "    </tr>\n",
       "  </thead>\n",
       "  <tbody>\n",
       "    <tr>\n",
       "      <th>39</th>\n",
       "      <td>13284</td>\n",
       "      <td>13431</td>\n",
       "      <td>147</td>\n",
       "      <td>19</td>\n",
       "      <td>252396</td>\n",
       "    </tr>\n",
       "    <tr>\n",
       "      <th>41</th>\n",
       "      <td>13431</td>\n",
       "      <td>13431</td>\n",
       "      <td>0</td>\n",
       "      <td>14</td>\n",
       "      <td>188034</td>\n",
       "    </tr>\n",
       "    <tr>\n",
       "      <th>44</th>\n",
       "      <td>13575</td>\n",
       "      <td>13431</td>\n",
       "      <td>144</td>\n",
       "      <td>19</td>\n",
       "      <td>257925</td>\n",
       "    </tr>\n",
       "    <tr>\n",
       "      <th>58</th>\n",
       "      <td>14916</td>\n",
       "      <td>13575</td>\n",
       "      <td>1341</td>\n",
       "      <td>17</td>\n",
       "      <td>253572</td>\n",
       "    </tr>\n",
       "    <tr>\n",
       "      <th>61</th>\n",
       "      <td>15262</td>\n",
       "      <td>13575</td>\n",
       "      <td>1687</td>\n",
       "      <td>2</td>\n",
       "      <td>30524</td>\n",
       "    </tr>\n",
       "  </tbody>\n",
       "</table>\n",
       "</div>"
      ],
      "text/plain": [
       "    Point1  Point2  Distance  count  SimilarityScore\n",
       "39   13284   13431       147     19           252396\n",
       "41   13431   13431         0     14           188034\n",
       "44   13575   13431       144     19           257925\n",
       "58   14916   13575      1341     17           253572\n",
       "61   15262   13575      1687      2            30524"
      ]
     },
     "execution_count": 33,
     "metadata": {},
     "output_type": "execute_result"
    }
   ],
   "source": [
    "# Merge based on value counts and calculate similarity scores\n",
    "similarity = sorted_df.merge(point2_value_count, how='inner', left_on='Point1', right_index=True).fillna(0)\n",
    "similarity['SimilarityScore'] = similarity['Point1'] * similarity['count']\n",
    "similarity.head()"
   ]
  },
  {
   "cell_type": "code",
   "execution_count": 35,
   "id": "08aaf4b0-8566-44fa-807b-ab34c69d54d0",
   "metadata": {},
   "outputs": [],
   "source": [
    "# Calculate sum of similarity scores\n",
    "part2_solution = similarity['SimilarityScore'].sum()"
   ]
  }
 ],
 "metadata": {
  "kernelspec": {
   "display_name": "Python 3 (ipykernel)",
   "language": "python",
   "name": "python3"
  },
  "language_info": {
   "codemirror_mode": {
    "name": "ipython",
    "version": 3
   },
   "file_extension": ".py",
   "mimetype": "text/x-python",
   "name": "python",
   "nbconvert_exporter": "python",
   "pygments_lexer": "ipython3",
   "version": "3.11.7"
  }
 },
 "nbformat": 4,
 "nbformat_minor": 5
}
