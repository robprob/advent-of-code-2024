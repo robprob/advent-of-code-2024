{
 "cells": [
  {
   "cell_type": "markdown",
   "id": "8cd6af25-e1ef-45f5-8b48-3f2dfd7e6ced",
   "metadata": {},
   "source": [
    "# Day 11: Plutonian Pebbles"
   ]
  },
  {
   "cell_type": "markdown",
   "id": "b0100004-cd59-46cf-a454-c3155a0d2ce4",
   "metadata": {},
   "source": [
    "## Part 1"
   ]
  },
  {
   "cell_type": "code",
   "execution_count": 4,
   "id": "5ccc448e-005c-4817-adc0-39c26517d7e0",
   "metadata": {},
   "outputs": [],
   "source": [
    "with open('Input Files/day11.txt') as f:\n",
    "    data = f.read().split()\n",
    "\n",
    "stones = data.copy()"
   ]
  },
  {
   "cell_type": "code",
   "execution_count": 5,
   "id": "bcdf7898-9b78-4526-a187-ff2b1a907463",
   "metadata": {},
   "outputs": [],
   "source": [
    "for _ in range(25):\n",
    "    #print(f'Iteration: {_ + 1}, Number of Stones: {len(stones)}')\n",
    "    for i in range(len(stones)):\n",
    "        if stones[i] == '0':\n",
    "            stones[i] = '1'\n",
    "        elif len(stones[i]) % 2 == 0:\n",
    "            midpoint = len(stones[i]) // 2\n",
    "            stones[i] = stones[i][:midpoint] + ' ' + stones[i][midpoint:]\n",
    "        else:\n",
    "            stones[i] = str(int(stones[i]) * 2024)\n",
    "    stones = [str(int(stone)) for split_stone in stones for stone in split_stone.split()]"
   ]
  },
  {
   "cell_type": "code",
   "execution_count": 6,
   "id": "26783e7d-bf1f-4250-a7f5-127984fecfc7",
   "metadata": {},
   "outputs": [],
   "source": [
    "part1_solution = len(stones)"
   ]
  },
  {
   "cell_type": "markdown",
   "id": "36fd5028-c8d0-4b3b-9bf1-bcf9d0479da6",
   "metadata": {},
   "source": [
    "## Part 2"
   ]
  },
  {
   "cell_type": "code",
   "execution_count": 8,
   "id": "110a9878-0494-4071-98df-e5c00a8f403e",
   "metadata": {},
   "outputs": [],
   "source": [
    "# Refactor using defaultdict instead, prevents iterating every value in a list, eliminating many repeats\n",
    "from collections import defaultdict\n",
    "\n",
    "stones = defaultdict(int)\n",
    "\n",
    "for value in data.copy():\n",
    "    stones[value] += 1"
   ]
  },
  {
   "cell_type": "code",
   "execution_count": 9,
   "id": "8823a53a-153f-4dd1-b036-e64379870587",
   "metadata": {},
   "outputs": [],
   "source": [
    "for _ in range(75):\n",
    "    #print(f'Iteration: {_ + 1}, Number of Stones: {sum(stones.values())}')\n",
    "    updated_stones = defaultdict(int)\n",
    "    for stone, count in stones.items():\n",
    "        if count == 0:\n",
    "            continue\n",
    "        if stone == '0':\n",
    "            updated_stones['1'] += count\n",
    "            continue\n",
    "        elif len(stone) % 2 == 0:\n",
    "            midpoint = len(stone) // 2\n",
    "            updated_stones[str(int(stone[:midpoint]))] += count\n",
    "            updated_stones[str(int(stone[midpoint:]))] += count\n",
    "            continue\n",
    "        else:\n",
    "            if '.' in stone:\n",
    "                print(stone)\n",
    "            updated_stones[str(int(stone) * 2024)] += count\n",
    "            continue\n",
    "    stones = updated_stones"
   ]
  },
  {
   "cell_type": "code",
   "execution_count": 10,
   "id": "6b2f10fd-d6c4-4a21-af92-61212f84d7d0",
   "metadata": {},
   "outputs": [],
   "source": [
    "# Iterate through stone counts to determine total count\n",
    "part2_solution = sum(stones.values())"
   ]
  }
 ],
 "metadata": {
  "kernelspec": {
   "display_name": "Python 3 (ipykernel)",
   "language": "python",
   "name": "python3"
  },
  "language_info": {
   "codemirror_mode": {
    "name": "ipython",
    "version": 3
   },
   "file_extension": ".py",
   "mimetype": "text/x-python",
   "name": "python",
   "nbconvert_exporter": "python",
   "pygments_lexer": "ipython3",
   "version": "3.11.7"
  }
 },
 "nbformat": 4,
 "nbformat_minor": 5
}
