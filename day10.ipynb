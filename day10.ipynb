{
 "cells": [
  {
   "cell_type": "markdown",
   "id": "fd86b16e-e161-4b23-b20c-d2dc9300c0aa",
   "metadata": {},
   "source": [
    "# Day 10: Hoof It"
   ]
  },
  {
   "cell_type": "markdown",
   "id": "d236d2e1-e4ea-4cdc-939a-dbddbe5ed708",
   "metadata": {},
   "source": [
    "## Part 1"
   ]
  },
  {
   "cell_type": "code",
   "execution_count": 4,
   "id": "99154885-c56b-4b0a-bbdb-7fd6defe6fb6",
   "metadata": {},
   "outputs": [],
   "source": [
    "import pandas as pd\n",
    "import numpy as np"
   ]
  },
  {
   "cell_type": "code",
   "execution_count": 5,
   "id": "ef0d7f5c-58f6-40d4-ac5c-97376a8dcb10",
   "metadata": {},
   "outputs": [],
   "source": [
    "with open('Input Files/day10.txt') as f:\n",
    "    data = f.readlines()\n",
    "    \n",
    "top_map = np.array([list(map(int, line.strip())) for line in data])"
   ]
  },
  {
   "cell_type": "code",
   "execution_count": 6,
   "id": "4282d882-b3dd-446a-a71d-0f4b3af16c1f",
   "metadata": {},
   "outputs": [],
   "source": [
    "# Check specified destination for validity\n",
    "def valid_move(row, col, desired_height):\n",
    "    if row == -1 or row == top_map.shape[0]:\n",
    "        return False\n",
    "    elif col == -1 or col == top_map.shape[1]:\n",
    "        return False\n",
    "    elif top_map[row][col] == desired_height:\n",
    "        return True\n",
    "    else:\n",
    "        return False"
   ]
  },
  {
   "cell_type": "code",
   "execution_count": 7,
   "id": "0869b8fb-ba29-4a53-918a-ec1eb9acebc4",
   "metadata": {},
   "outputs": [],
   "source": [
    "# Dictionary of starting points and their unique trailhead coordinates\n",
    "trailheads = {}"
   ]
  },
  {
   "cell_type": "code",
   "execution_count": 8,
   "id": "5088d289-ee73-48c4-9a5f-21656e1880c6",
   "metadata": {},
   "outputs": [],
   "source": [
    "# Recursively seek possible paths, adding to set of trailheads\n",
    "def seek(start_row, start_col, row, col):\n",
    "    # Determine if trailhead, adding to coordinate set\n",
    "    if top_map[row][col] == 9:\n",
    "        trailheads.setdefault((start_row, start_col), set())\n",
    "        trailheads[(start_row, start_col)].add((row,col))\n",
    "        return\n",
    "    # Next height\n",
    "    desired_height = top_map[row][col] + 1\n",
    "    # Check all cardinal directions, recursively iterating through paths\n",
    "    # Right\n",
    "    if valid_move(row, col+1, desired_height):\n",
    "        seek(start_row, start_col, row, col+1)\n",
    "    # Down\n",
    "    if valid_move(row+1, col, desired_height):\n",
    "        seek(start_row, start_col, row+1, col)\n",
    "    # Left\n",
    "    if valid_move(row, col-1, desired_height):\n",
    "        seek(start_row, start_col, row, col-1)\n",
    "    # Up\n",
    "    if valid_move(row-1, col, desired_height):\n",
    "        seek(start_row, start_col, row-1, col)"
   ]
  },
  {
   "cell_type": "code",
   "execution_count": 9,
   "id": "7943c7e4-69ac-49c5-8acb-421a9cfbc156",
   "metadata": {},
   "outputs": [],
   "source": [
    "# Find start of hiking trails\n",
    "for row in range(top_map.shape[0]):\n",
    "    for col in range(top_map.shape[1]):\n",
    "        if top_map[row][col] == 0:\n",
    "            # Seek paths to trailhead\n",
    "            seek(row, col, row, col)"
   ]
  },
  {
   "cell_type": "code",
   "execution_count": 10,
   "id": "4305f2b8-24d1-4ba3-a83c-5103408729ce",
   "metadata": {},
   "outputs": [],
   "source": [
    "# Add up trailhead scores\n",
    "total_score = 0\n",
    "\n",
    "for starting_point in trailheads.keys():\n",
    "    score = len(trailheads[starting_point])\n",
    "    total_score += score"
   ]
  },
  {
   "cell_type": "code",
   "execution_count": 11,
   "id": "c53de6e7-e6cc-4ae8-94e7-76dd2337e81a",
   "metadata": {},
   "outputs": [],
   "source": [
    "part1_solution = total_score"
   ]
  },
  {
   "cell_type": "markdown",
   "id": "85df2cb0-79a9-4c94-a2c1-f7c8f895928c",
   "metadata": {},
   "source": [
    "## Part 2"
   ]
  },
  {
   "cell_type": "code",
   "execution_count": 13,
   "id": "9030db6e-623a-4644-b528-caa0290ddbc2",
   "metadata": {},
   "outputs": [],
   "source": [
    "# Include all distinct paths as unique trails, not just start and destination\n",
    "\n",
    "# Dictionary of set sequences\n",
    "trailheads = {}\n",
    "\n",
    "# Recursively seek possible paths, adding to set of trailheads\n",
    "def seek(hike_sequence, row, col):\n",
    "    # Update hike_sequence\n",
    "    hike_sequence.append((row,col))\n",
    "    # Determine if trailhead, adding to coordinate set\n",
    "    if top_map[row][col] == 9:\n",
    "        trailheads.setdefault(hike_sequence[0], set())\n",
    "        trailheads[hike_sequence[0]].add(tuple(hike_sequence))\n",
    "        return\n",
    "    # Next height\n",
    "    desired_height = top_map[row][col] + 1\n",
    "    # Check all cardinal directions, recursively iterating through paths\n",
    "    # Right\n",
    "    if valid_move(row, col+1, desired_height):\n",
    "        seek(hike_sequence, row, col+1)\n",
    "    # Down\n",
    "    if valid_move(row+1, col, desired_height):\n",
    "        seek(hike_sequence, row+1, col)\n",
    "    # Left\n",
    "    if valid_move(row, col-1, desired_height):\n",
    "        seek(hike_sequence, row, col-1)\n",
    "    # Up\n",
    "    if valid_move(row-1, col, desired_height):\n",
    "        seek(hike_sequence, row-1, col)"
   ]
  },
  {
   "cell_type": "code",
   "execution_count": 14,
   "id": "25843b40-6c79-4276-99f4-d464bf5314d8",
   "metadata": {},
   "outputs": [],
   "source": [
    "# Find start of hiking trails\n",
    "for row in range(top_map.shape[0]):\n",
    "    for col in range(top_map.shape[1]):\n",
    "        if top_map[row][col] == 0:\n",
    "            # Start a new hiking sequence\n",
    "            hike_sequence = []\n",
    "            # Seek paths to trailhead\n",
    "            seek(hike_sequence, row, col)"
   ]
  },
  {
   "cell_type": "code",
   "execution_count": 15,
   "id": "02e80989-9038-48d1-8f75-7207839f22ea",
   "metadata": {},
   "outputs": [],
   "source": [
    "# Add up trailhead scores\n",
    "total_score = 0\n",
    "\n",
    "for starting_point in trailheads.keys():\n",
    "    score = len(trailheads[starting_point])\n",
    "    total_score += score"
   ]
  },
  {
   "cell_type": "code",
   "execution_count": 16,
   "id": "180af50b-e471-4b81-9c42-43446c1a43e8",
   "metadata": {},
   "outputs": [],
   "source": [
    "part2_solution = total_score"
   ]
  }
 ],
 "metadata": {
  "kernelspec": {
   "display_name": "Python 3 (ipykernel)",
   "language": "python",
   "name": "python3"
  },
  "language_info": {
   "codemirror_mode": {
    "name": "ipython",
    "version": 3
   },
   "file_extension": ".py",
   "mimetype": "text/x-python",
   "name": "python",
   "nbconvert_exporter": "python",
   "pygments_lexer": "ipython3",
   "version": "3.11.7"
  }
 },
 "nbformat": 4,
 "nbformat_minor": 5
}
